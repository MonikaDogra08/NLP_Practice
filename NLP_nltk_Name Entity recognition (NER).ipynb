{
 "cells": [
  {
   "cell_type": "markdown",
   "metadata": {},
   "source": [
    "## Named Entity Recognition (NER)\n",
    "\n",
    "It involves in spotting named entities (people, places, organizations etc.) from a chunk of text, and classifying them into a predefined set of categories.\n",
    "\n",
    "### Why it is important?\n",
    "\n",
    "In order to understand the meaning from a given text (for ex a tweet or document), it is important to identify who did what to whom. Named entity recognition is the first task of identifying the words which may represnt the who, what and whom in the text. It helps in identifying the major entities the text is talking about.\n",
    "\n",
    "\n",
    "#### Use Cases of Named Entity Recognition:\n",
    "- Classifying content for news providers : Named Entity Recognition can automatically scan entire articles and reveal which are the major people, organizations, and places discussed in them.\n",
    "- Powering Content Recommendations : This can be done by extracting entities from a particular article and recommending the other articles which have the most similar entities mentioned in them.\n",
    "- and many more .."
   ]
  },
  {
   "cell_type": "code",
   "execution_count": 15,
   "metadata": {},
   "outputs": [
    {
     "name": "stderr",
     "output_type": "stream",
     "text": [
      "[nltk_data] Downloading package maxent_ne_chunker to\n",
      "[nltk_data]     C:\\Users\\monik\\AppData\\Roaming\\nltk_data...\n",
      "[nltk_data]   Package maxent_ne_chunker is already up-to-date!\n"
     ]
    },
    {
     "data": {
      "text/plain": [
       "True"
      ]
     },
     "execution_count": 15,
     "metadata": {},
     "output_type": "execute_result"
    }
   ],
   "source": [
    "# Download the model :\n",
    "import nltk\n",
    "nltk.download('maxent_ne_chunker')"
   ]
  },
  {
   "cell_type": "code",
   "execution_count": 16,
   "metadata": {},
   "outputs": [
    {
     "name": "stderr",
     "output_type": "stream",
     "text": [
      "[nltk_data] Downloading package words to\n",
      "[nltk_data]     C:\\Users\\monik\\AppData\\Roaming\\nltk_data...\n",
      "[nltk_data]   Package words is already up-to-date!\n"
     ]
    },
    {
     "data": {
      "text/plain": [
       "True"
      ]
     },
     "execution_count": 16,
     "metadata": {},
     "output_type": "execute_result"
    }
   ],
   "source": [
    "nltk.download('words')"
   ]
  },
  {
   "cell_type": "code",
   "execution_count": 17,
   "metadata": {},
   "outputs": [],
   "source": [
    "text= \"Apple acquired Zoom in China on Wednesday 6th May 2020.\\\n",
    "    This news has made Apple and Google stock jump by 5% on Dow Jones Index in the \\\n",
    "    United States of America\""
   ]
  },
  {
   "cell_type": "code",
   "execution_count": 18,
   "metadata": {},
   "outputs": [
    {
     "data": {
      "text/plain": [
       "['apple',\n",
       " 'acquired',\n",
       " 'zoom',\n",
       " 'in',\n",
       " 'china',\n",
       " 'on',\n",
       " 'wednesday',\n",
       " '6th',\n",
       " 'may',\n",
       " '2020.',\n",
       " 'this',\n",
       " 'news',\n",
       " 'has',\n",
       " 'made',\n",
       " 'apple',\n",
       " 'and',\n",
       " 'google',\n",
       " 'stock',\n",
       " 'jump',\n",
       " 'by',\n",
       " '5',\n",
       " '%',\n",
       " 'on',\n",
       " 'dow',\n",
       " 'jones',\n",
       " 'index',\n",
       " 'in',\n",
       " 'the',\n",
       " 'united',\n",
       " 'states',\n",
       " 'of',\n",
       " 'america']"
      ]
     },
     "execution_count": 18,
     "metadata": {},
     "output_type": "execute_result"
    }
   ],
   "source": [
    "# tokenize to words\n",
    "words = nltk.word_tokenize(text.lower())\n",
    "words"
   ]
  },
  {
   "cell_type": "code",
   "execution_count": 19,
   "metadata": {},
   "outputs": [
    {
     "data": {
      "text/plain": [
       "['united',\n",
       " 'may',\n",
       " 'china',\n",
       " 'america',\n",
       " 'made',\n",
       " 'google',\n",
       " '6th',\n",
       " 'index',\n",
       " 'apple',\n",
       " 'states',\n",
       " 'news',\n",
       " '5',\n",
       " 'dow',\n",
       " 'jones',\n",
       " 'acquired',\n",
       " '2020.',\n",
       " 'wednesday',\n",
       " 'zoom',\n",
       " 'jump',\n",
       " 'stock']"
      ]
     },
     "execution_count": 19,
     "metadata": {},
     "output_type": "execute_result"
    }
   ],
   "source": [
    "# handle stop_words and puctuation:\n",
    "\n",
    "import string\n",
    "from nltk.corpus import stopwords\n",
    "\n",
    "stop_word = stopwords.words(\"english\")\n",
    "punch = string.punctuation\n",
    "\n",
    "clean_list = []\n",
    "\n",
    "for word in set(words):\n",
    "    if(word not in stop_word and word not in punch):\n",
    "        clean_list.append(word)\n",
    "clean_list"
   ]
  },
  {
   "cell_type": "code",
   "execution_count": 20,
   "metadata": {},
   "outputs": [
    {
     "name": "stdout",
     "output_type": "stream",
     "text": [
      "(GPE United/NNP)\n",
      "(GPE China/NNP)\n",
      "(ORGANIZATION America/NNP Made/NNP)\n",
      "(PERSON Jones/NNP Acquired/NNP)\n"
     ]
    }
   ],
   "source": [
    "# Part of speech tagging\n",
    "\n",
    "title_word  = [word.title() for word in clean_list]\n",
    "pos_tag = nltk.pos_tag(title_word)\n",
    "name_entity = nltk.ne_chunk(pos_tag)\n",
    "\n",
    "for chunk in name_entity:\n",
    "    if hasattr(chunk,'label'):\n",
    "        print(chunk)"
   ]
  },
  {
   "cell_type": "code",
   "execution_count": 21,
   "metadata": {},
   "outputs": [
    {
     "data": {
      "text/html": [
       "<div>\n",
       "<style scoped>\n",
       "    .dataframe tbody tr th:only-of-type {\n",
       "        vertical-align: middle;\n",
       "    }\n",
       "\n",
       "    .dataframe tbody tr th {\n",
       "        vertical-align: top;\n",
       "    }\n",
       "\n",
       "    .dataframe thead th {\n",
       "        text-align: right;\n",
       "    }\n",
       "</style>\n",
       "<table border=\"1\" class=\"dataframe\">\n",
       "  <thead>\n",
       "    <tr style=\"text-align: right;\">\n",
       "      <th></th>\n",
       "      <th>Entities</th>\n",
       "      <th>Labels</th>\n",
       "    </tr>\n",
       "  </thead>\n",
       "  <tbody>\n",
       "    <tr>\n",
       "      <th>0</th>\n",
       "      <td>United</td>\n",
       "      <td>GPE</td>\n",
       "    </tr>\n",
       "    <tr>\n",
       "      <th>1</th>\n",
       "      <td>Jones Acquired</td>\n",
       "      <td>PERSON</td>\n",
       "    </tr>\n",
       "    <tr>\n",
       "      <th>2</th>\n",
       "      <td>China</td>\n",
       "      <td>GPE</td>\n",
       "    </tr>\n",
       "    <tr>\n",
       "      <th>3</th>\n",
       "      <td>America Made</td>\n",
       "      <td>ORGANIZATION</td>\n",
       "    </tr>\n",
       "  </tbody>\n",
       "</table>\n",
       "</div>"
      ],
      "text/plain": [
       "         Entities        Labels\n",
       "0          United           GPE\n",
       "1  Jones Acquired        PERSON\n",
       "2           China           GPE\n",
       "3    America Made  ORGANIZATION"
      ]
     },
     "execution_count": 21,
     "metadata": {},
     "output_type": "execute_result"
    }
   ],
   "source": [
    "# see in datafram form:\n",
    "\n",
    "import pandas as pd\n",
    "entities =[]\n",
    "labels =[]\n",
    "for chunk in name_entity:\n",
    "    if hasattr(chunk,'label'):\n",
    "        entities.append(' '.join(c[0] for c in chunk))\n",
    "        labels.append(chunk.label())\n",
    "        \n",
    "entities_labels = list(set(zip(entities, labels)))\n",
    "entities_df = pd.DataFrame(entities_labels)\n",
    "entities_df.columns = [\"Entities\",\"Labels\"]\n",
    "entities_df\n",
    "\n"
   ]
  },
  {
   "cell_type": "markdown",
   "metadata": {},
   "source": [
    "* No library is 100% perfect as we can see it is able to recognize the GPE(Geo-Political Entity) china, America.But not able to recognize : Google,Apple as organization etc.\n",
    "* There are other libraries like Spacy and Stanford NLP which may improve this problem."
   ]
  },
  {
   "cell_type": "markdown",
   "metadata": {},
   "source": [
    "### There is on more important method called Frequency distributer : \n",
    " -  It is used to find the frequency of each word occurring in a document. "
   ]
  },
  {
   "cell_type": "code",
   "execution_count": 22,
   "metadata": {},
   "outputs": [],
   "source": [
    "# import\n",
    "from nltk import FreqDist"
   ]
  },
  {
   "cell_type": "code",
   "execution_count": 23,
   "metadata": {},
   "outputs": [
    {
     "data": {
      "text/plain": [
       "FreqDist({'Apple': 2, 'in': 2, 'on': 2, 'acquired': 1, 'Zoom': 1, 'China': 1, 'Wednesday': 1, '6th': 1, 'May': 1, '2020': 1, ...})"
      ]
     },
     "execution_count": 23,
     "metadata": {},
     "output_type": "execute_result"
    }
   ],
   "source": [
    "freq = FreqDist(nltk.word_tokenize(text))\n",
    "freq\n",
    "\n",
    "# will show each word is repesting how many times in the given text."
   ]
  },
  {
   "cell_type": "code",
   "execution_count": 24,
   "metadata": {},
   "outputs": [
    {
     "name": "stdout",
     "output_type": "stream",
     "text": [
      "<FreqDist with 30 samples and 33 outcomes>\n"
     ]
    }
   ],
   "source": [
    "print(freq)\n",
    "# 28 unique words in total 31 words."
   ]
  },
  {
   "cell_type": "code",
   "execution_count": 25,
   "metadata": {},
   "outputs": [
    {
     "data": {
      "text/plain": [
       "2"
      ]
     },
     "execution_count": 25,
     "metadata": {},
     "output_type": "execute_result"
    }
   ],
   "source": [
    "# specific words count\n",
    "\n",
    "freq[\"Apple\"]"
   ]
  },
  {
   "cell_type": "code",
   "execution_count": 26,
   "metadata": {},
   "outputs": [
    {
     "data": {
      "image/png": "[encoded data removed]",
      "text/plain": [
       "<Figure size 432x288 with 1 Axes>"
      ]
     },
     "metadata": {
      "needs_background": "light"
     },
     "output_type": "display_data"
    },
    {
     "data": {
      "text/plain": [
       "<AxesSubplot:xlabel='Samples', ylabel='Counts'>"
      ]
     },
     "execution_count": 26,
     "metadata": {},
     "output_type": "execute_result"
    }
   ],
   "source": [
    "# freq distributor graph:\n",
    "\n",
    "freq = FreqDist(nltk.word_tokenize(text))\n",
    "freq.plot()\n",
    "\n",
    "# graph show the count of each word repeating"
   ]
  },
  {
   "cell_type": "code",
   "execution_count": 27,
   "metadata": {},
   "outputs": [
    {
     "name": "stdout",
     "output_type": "stream",
     "text": [
      "Apple is: 6.25 % of total\n",
      "acquired is: 3.12 % of total\n",
      "Zoom is: 3.12 % of total\n",
      "in is: 6.25 % of total\n",
      "China is: 3.12 % of total\n",
      "on is: 6.25 % of total\n",
      "Wednesday is: 3.12 % of total\n",
      "6th is: 3.12 % of total\n",
      "May is: 3.12 % of total\n",
      "2020 is: 3.12 % of total\n",
      ". is: 3.12 % of total\n",
      "This is: 3.12 % of total\n",
      "news is: 3.12 % of total\n",
      "has is: 3.12 % of total\n",
      "made is: 3.12 % of total\n",
      "and is: 3.12 % of total\n",
      "Google is: 3.12 % of total\n",
      "stock is: 3.12 % of total\n",
      "jump is: 3.12 % of total\n",
      "by is: 3.12 % of total\n",
      "5 is: 3.12 % of total\n",
      "% is: 3.12 % of total\n",
      "Dow is: 3.12 % of total\n",
      "Jones is: 3.12 % of total\n",
      "Index is: 3.12 % of total\n",
      "the is: 3.12 % of total\n",
      "United is: 3.12 % of total\n",
      "States is: 3.12 % of total\n",
      "of is: 3.12 % of total\n",
      "America is: 3.12 % of total\n"
     ]
    }
   ],
   "source": [
    "# count each word with percentage:\n",
    "\n",
    "total = len(words)\n",
    "\n",
    "for k,v in freq.items():\n",
    "    percent = round((v/total) *100,2)\n",
    "    print(f\"{k} is: {percent} % of total\")"
   ]
  },
  {
   "cell_type": "code",
   "execution_count": 28,
   "metadata": {},
   "outputs": [
    {
     "name": "stdout",
     "output_type": "stream",
     "text": [
      "Total sentenecs in the given text is : 4\n"
     ]
    }
   ],
   "source": [
    "# count no. of senteces in the fiven text:\n",
    "\n",
    "check =  \"I ate fruit the entire day. For breakfast, I had dates. For lunch, I had mangoes. For dinner, I had cantaloupe.\"\n",
    "\n",
    "freq = FreqDist(nltk.sent_tokenize(check))\n",
    "print(f\"Total sentenecs in the given text is : {len(freq)}\")"
   ]
  },
  {
   "cell_type": "code",
   "execution_count": null,
   "metadata": {},
   "outputs": [],
   "source": []
  },
  {
   "cell_type": "code",
   "execution_count": null,
   "metadata": {},
   "outputs": [],
   "source": []
  }
 ],
 "metadata": {
  "kernelspec": {
   "display_name": "Python 3",
   "language": "python",
   "name": "python3"
  },
  "language_info": {
   "codemirror_mode": {
    "name": "ipython",
    "version": 3
   },
   "file_extension": ".py",
   "mimetype": "text/x-python",
   "name": "python",
   "nbconvert_exporter": "python",
   "pygments_lexer": "ipython3",
   "version": "3.8.5"
  }
 },
 "nbformat": 4,
 "nbformat_minor": 4
}
