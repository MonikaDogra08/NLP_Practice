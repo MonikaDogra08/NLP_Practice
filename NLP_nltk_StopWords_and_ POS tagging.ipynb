{
 "cells": [
  {
   "cell_type": "markdown",
   "metadata": {},
   "source": [
    "## Stop Words\n",
    "A stop word is a commonly used word (like: “the”, “a”, “an”, “in”) that a search engine has been programmed to ignore.\n",
    "Why? We do not want these words to take up space in our database, or taking up valuable processing time.\n",
    "- we can apply stopwords in 16 different languages.\n",
    "\n",
    "## POS tagging\n",
    " It is responsible for text reading in a language and assigning some specific token (Parts of Speech) to each word.It  signifies whether the word is a noun, adjective, verb, and so on.\n",
    " \n",
    " - To check the POS abbribations:\n",
    " https://www.guru99.com/pos-tagging-chunking-nltk.html"
   ]
  },
  {
   "cell_type": "code",
   "execution_count": 1,
   "metadata": {},
   "outputs": [
    {
     "name": "stderr",
     "output_type": "stream",
     "text": [
      "[nltk_data] Downloading package stopwords to\n",
      "[nltk_data]     C:\\Users\\monik\\AppData\\Roaming\\nltk_data...\n",
      "[nltk_data]   Package stopwords is already up-to-date!\n"
     ]
    },
    {
     "data": {
      "text/plain": [
       "True"
      ]
     },
     "execution_count": 1,
     "metadata": {},
     "output_type": "execute_result"
    }
   ],
   "source": [
    "# import nltk lib.\n",
    "import nltk\n",
    "\n",
    "# Download stopwords :\n",
    "nltk.download('stopwords')"
   ]
  },
  {
   "cell_type": "code",
   "execution_count": 6,
   "metadata": {},
   "outputs": [
    {
     "name": "stdout",
     "output_type": "stream",
     "text": [
      "['i', 'me', 'my', 'myself', 'we', 'our', 'ours', 'ourselves', 'you', \"you're\", \"you've\", \"you'll\", \"you'd\", 'your', 'yours', 'yourself', 'yourselves', 'he', 'him', 'his', 'himself', 'she', \"she's\", 'her', 'hers', 'herself', 'it', \"it's\", 'its', 'itself', 'they', 'them', 'their', 'theirs', 'themselves', 'what', 'which', 'who', 'whom', 'this', 'that', \"that'll\", 'these', 'those', 'am', 'is', 'are', 'was', 'were', 'be', 'been', 'being', 'have', 'has', 'had', 'having', 'do', 'does', 'did', 'doing', 'a', 'an', 'the', 'and', 'but', 'if', 'or', 'because', 'as', 'until', 'while', 'of', 'at', 'by', 'for', 'with', 'about', 'against', 'between', 'into', 'through', 'during', 'before', 'after', 'above', 'below', 'to', 'from', 'up', 'down', 'in', 'out', 'on', 'off', 'over', 'under', 'again', 'further', 'then', 'once', 'here', 'there', 'when', 'where', 'why', 'how', 'all', 'any', 'both', 'each', 'few', 'more', 'most', 'other', 'some', 'such', 'no', 'nor', 'not', 'only', 'own', 'same', 'so', 'than', 'too', 'very', 's', 't', 'can', 'will', 'just', 'don', \"don't\", 'should', \"should've\", 'now', 'd', 'll', 'm', 'o', 're', 've', 'y', 'ain', 'aren', \"aren't\", 'couldn', \"couldn't\", 'didn', \"didn't\", 'doesn', \"doesn't\", 'hadn', \"hadn't\", 'hasn', \"hasn't\", 'haven', \"haven't\", 'isn', \"isn't\", 'ma', 'mightn', \"mightn't\", 'mustn', \"mustn't\", 'needn', \"needn't\", 'shan', \"shan't\", 'shouldn', \"shouldn't\", 'wasn', \"wasn't\", 'weren', \"weren't\", 'won', \"won't\", 'wouldn', \"wouldn't\"]\n"
     ]
    }
   ],
   "source": [
    "from nltk.corpus import stopwords\n",
    "\n",
    "# list of stopwords for english :\n",
    "stop_word = stopwords.words(\"english\")\n",
    "print(stop_word)"
   ]
  },
  {
   "cell_type": "code",
   "execution_count": 7,
   "metadata": {},
   "outputs": [
    {
     "name": "stdout",
     "output_type": "stream",
     "text": [
      "['au', 'aux', 'avec', 'ce', 'ces', 'dans', 'de', 'des', 'du', 'elle', 'en', 'et', 'eux', 'il', 'ils', 'je', 'la', 'le', 'les', 'leur', 'lui', 'ma', 'mais', 'me', 'même', 'mes', 'moi', 'mon', 'ne', 'nos', 'notre', 'nous', 'on', 'ou', 'par', 'pas', 'pour', 'qu', 'que', 'qui', 'sa', 'se', 'ses', 'son', 'sur', 'ta', 'te', 'tes', 'toi', 'ton', 'tu', 'un', 'une', 'vos', 'votre', 'vous', 'c', 'd', 'j', 'l', 'à', 'm', 'n', 's', 't', 'y', 'été', 'étée', 'étées', 'étés', 'étant', 'étante', 'étants', 'étantes', 'suis', 'es', 'est', 'sommes', 'êtes', 'sont', 'serai', 'seras', 'sera', 'serons', 'serez', 'seront', 'serais', 'serait', 'serions', 'seriez', 'seraient', 'étais', 'était', 'étions', 'étiez', 'étaient', 'fus', 'fut', 'fûmes', 'fûtes', 'furent', 'sois', 'soit', 'soyons', 'soyez', 'soient', 'fusse', 'fusses', 'fût', 'fussions', 'fussiez', 'fussent', 'ayant', 'ayante', 'ayantes', 'ayants', 'eu', 'eue', 'eues', 'eus', 'ai', 'as', 'avons', 'avez', 'ont', 'aurai', 'auras', 'aura', 'aurons', 'aurez', 'auront', 'aurais', 'aurait', 'aurions', 'auriez', 'auraient', 'avais', 'avait', 'avions', 'aviez', 'avaient', 'eut', 'eûmes', 'eûtes', 'eurent', 'aie', 'aies', 'ait', 'ayons', 'ayez', 'aient', 'eusse', 'eusses', 'eût', 'eussions', 'eussiez', 'eussent']\n"
     ]
    }
   ],
   "source": [
    "# list of stopwords for french :\n",
    "stop_word_french = stopwords.words(\"french\")\n",
    "print(stop_word_french)"
   ]
  },
  {
   "cell_type": "code",
   "execution_count": 3,
   "metadata": {},
   "outputs": [
    {
     "data": {
      "text/plain": [
       "'!\"#$%&\\'()*+,-./:;<=>?@[\\\\]^_`{|}~'"
      ]
     },
     "execution_count": 3,
     "metadata": {},
     "output_type": "execute_result"
    }
   ],
   "source": [
    "# To remove the punctuations: \n",
    "import string\n",
    "punch = string.punctuation\n",
    "punch"
   ]
  },
  {
   "cell_type": "code",
   "execution_count": 9,
   "metadata": {},
   "outputs": [],
   "source": [
    "# Clean the text using stopwords :\n",
    "\n",
    "text = \"\"\"I have three visions for India. In 3000 years of our history, people from all over \n",
    "               the world have come and invaded us, captured our lands, conquered our minds. \n",
    "               From Alexander onwards, the Greeks, the Turks, the Moguls, the Portuguese, the British,\n",
    "               the French, the Dutch, all of them came and looted us, took over what was ours. \n",
    "               Yet we have not done this to any other nation. We have not conquered anyone.\"\"\""
   ]
  },
  {
   "cell_type": "markdown",
   "metadata": {},
   "source": [
    "- First apply word_tokenization , then remove all the punctuations so that it won't take up space in our database\n",
    "- As we can see in the stop_word list all words are in lower case it means \"The\" and \"the\" will get treated differently.\n",
    "- So its always better to convert all letters to lower case."
   ]
  },
  {
   "cell_type": "code",
   "execution_count": 16,
   "metadata": {},
   "outputs": [
    {
     "name": "stdout",
     "output_type": "stream",
     "text": [
      "['three', 'visions', 'india', '3000', 'years', 'history', 'people', 'world', 'come', 'invaded', 'us', 'captured', 'lands', 'conquered', 'minds', 'alexander', 'onwards', 'greeks', 'turks', 'moguls', 'portuguese', 'british', 'french', 'dutch', 'came', 'looted', 'us', 'took', 'yet', 'done', 'nation', 'conquered', 'anyone']\n"
     ]
    }
   ],
   "source": [
    "# word_tokenization:\n",
    "\n",
    "Clean_data = []\n",
    "\n",
    "for word in nltk.word_tokenize(text.lower()):\n",
    "    if (word not in stop_word and word not in punch):\n",
    "        Clean_data.append(word)\n",
    "print(Clean_data)"
   ]
  },
  {
   "cell_type": "code",
   "execution_count": 19,
   "metadata": {},
   "outputs": [
    {
     "name": "stdout",
     "output_type": "stream",
     "text": [
      "{'looted', 'took', 'visions', 'conquered', 'moguls', 'people', 'came', 'three', 'minds', 'british', 'greeks', 'nation', 'lands', 'turks', 'invaded', 'captured', 'world', 'anyone', 'history', 'french', 'come', '3000', 'years', 'yet', 'india', 'done', 'alexander', 'dutch', 'portuguese', 'us', 'onwards'}\n"
     ]
    }
   ],
   "source": [
    "# Remove duplications :\n",
    "print(set(Clean_data))"
   ]
  },
  {
   "cell_type": "code",
   "execution_count": 20,
   "metadata": {},
   "outputs": [
    {
     "name": "stderr",
     "output_type": "stream",
     "text": [
      "[nltk_data] Downloading package averaged_perceptron_tagger to\n",
      "[nltk_data]     C:\\Users\\monik\\AppData\\Roaming\\nltk_data...\n",
      "[nltk_data]   Package averaged_perceptron_tagger is already up-to-\n",
      "[nltk_data]       date!\n"
     ]
    },
    {
     "data": {
      "text/plain": [
       "True"
      ]
     },
     "execution_count": 20,
     "metadata": {},
     "output_type": "execute_result"
    }
   ],
   "source": [
    "# POS tagging\n",
    "# Download the model :\n",
    "nltk.download('averaged_perceptron_tagger')"
   ]
  },
  {
   "cell_type": "code",
   "execution_count": 22,
   "metadata": {},
   "outputs": [
    {
     "data": {
      "text/plain": [
       "[('looted', 'VBN'),\n",
       " ('took', 'VBD'),\n",
       " ('visions', 'NNS'),\n",
       " ('conquered', 'VBN'),\n",
       " ('moguls', 'JJ'),\n",
       " ('people', 'NNS'),\n",
       " ('came', 'VBD'),\n",
       " ('three', 'CD'),\n",
       " ('minds', 'NNS'),\n",
       " ('british', 'JJ'),\n",
       " ('greeks', 'NNS'),\n",
       " ('nation', 'NN'),\n",
       " ('lands', 'VBZ'),\n",
       " ('turks', 'NNS'),\n",
       " ('invaded', 'VBD'),\n",
       " ('captured', 'JJ'),\n",
       " ('world', 'NN'),\n",
       " ('anyone', 'NN'),\n",
       " ('history', 'NN'),\n",
       " ('french', 'JJ'),\n",
       " ('come', 'JJ'),\n",
       " ('3000', 'CD'),\n",
       " ('years', 'NNS'),\n",
       " ('yet', 'RB'),\n",
       " ('india', 'VBP'),\n",
       " ('done', 'VBN'),\n",
       " ('alexander', 'NN'),\n",
       " ('dutch', 'NN'),\n",
       " ('portuguese', 'VBP'),\n",
       " ('us', 'PRP'),\n",
       " ('onwards', 'NNS')]"
      ]
     },
     "execution_count": 22,
     "metadata": {},
     "output_type": "execute_result"
    }
   ],
   "source": [
    "# apply POS on the above cleanned data:\n",
    "\n",
    "nltk.pos_tag(set(Clean_data))"
   ]
  },
  {
   "cell_type": "code",
   "execution_count": null,
   "metadata": {},
   "outputs": [],
   "source": []
  }
 ],
 "metadata": {
  "kernelspec": {
   "display_name": "Python 3",
   "language": "python",
   "name": "python3"
  },
  "language_info": {
   "codemirror_mode": {
    "name": "ipython",
    "version": 3
   },
   "file_extension": ".py",
   "mimetype": "text/x-python",
   "name": "python",
   "nbconvert_exporter": "python",
   "pygments_lexer": "ipython3",
   "version": "3.8.5"
  }
 },
 "nbformat": 4,
 "nbformat_minor": 4
}
